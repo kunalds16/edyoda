{
 "cells": [
  {
   "cell_type": "code",
   "execution_count": 1,
   "metadata": {},
   "outputs": [],
   "source": [
    "import numpy as np"
   ]
  },
  {
   "cell_type": "code",
   "execution_count": 2,
   "metadata": {},
   "outputs": [],
   "source": [
    "import matplotlib.pyplot as plt"
   ]
  },
  {
   "cell_type": "code",
   "execution_count": 3,
   "metadata": {},
   "outputs": [],
   "source": [
    "# generate random dataset\n",
    "np.random.seed(0)"
   ]
  },
  {
   "cell_type": "code",
   "execution_count": 4,
   "metadata": {},
   "outputs": [],
   "source": [
    "x = np.random.rand(100,1)"
   ]
  },
  {
   "cell_type": "code",
   "execution_count": 6,
   "metadata": {},
   "outputs": [],
   "source": [
    "y = 2 + 3*x + np.random.rand(100,1)"
   ]
  },
  {
   "cell_type": "code",
   "execution_count": 7,
   "metadata": {},
   "outputs": [],
   "source": [
    "# plotiing it"
   ]
  },
  {
   "cell_type": "code",
   "execution_count": 11,
   "metadata": {},
   "outputs": [
    {
     "data": {
      "image/png": "[encoded data removed]",
      "text/plain": [
       "<Figure size 432x288 with 1 Axes>"
      ]
     },
     "metadata": {
      "needs_background": "light"
     },
     "output_type": "display_data"
    }
   ],
   "source": [
    "plt.scatter(x,y,s=20)\n",
    "plt.xlabel('x')\n",
    "plt.ylabel('y')\n",
    "plt.show()"
   ]
  },
  {
   "cell_type": "code",
   "execution_count": 16,
   "metadata": {},
   "outputs": [],
   "source": [
    "from sklearn.linear_model import LinearRegression"
   ]
  },
  {
   "cell_type": "code",
   "execution_count": 17,
   "metadata": {},
   "outputs": [],
   "source": [
    "from sklearn.metrics import mean_squared_error,r2_score"
   ]
  },
  {
   "cell_type": "code",
   "execution_count": 18,
   "metadata": {},
   "outputs": [],
   "source": [
    "# model initilaization"
   ]
  },
  {
   "cell_type": "code",
   "execution_count": 19,
   "metadata": {},
   "outputs": [],
   "source": [
    "regression_model = LinearRegression()"
   ]
  },
  {
   "cell_type": "code",
   "execution_count": 20,
   "metadata": {},
   "outputs": [],
   "source": [
    "# fith the data"
   ]
  },
  {
   "cell_type": "code",
   "execution_count": 21,
   "metadata": {},
   "outputs": [
    {
     "data": {
      "text/plain": [
       "LinearRegression()"
      ]
     },
     "execution_count": 21,
     "metadata": {},
     "output_type": "execute_result"
    }
   ],
   "source": [
    "regression_model.fit(x,y)"
   ]
  },
  {
   "cell_type": "code",
   "execution_count": 23,
   "metadata": {},
   "outputs": [],
   "source": [
    "predicted_value = regression_model.predict(x)"
   ]
  },
  {
   "cell_type": "code",
   "execution_count": 24,
   "metadata": {},
   "outputs": [
    {
     "data": {
      "text/plain": [
       "array([[4.15316803],\n",
       "       [4.64593895],\n",
       "       [4.3129564 ],\n",
       "       [4.14152724],\n",
       "       [3.78247382],\n",
       "       [4.44070073],\n",
       "       [3.82373875],\n",
       "       [5.16894317],\n",
       "       [5.38186578],\n",
       "       [3.6633704 ],\n",
       "       [4.87262179],\n",
       "       [4.09417331],\n",
       "       [4.21012645],\n",
       "       [5.26912179],\n",
       "       [2.73809   ],\n",
       "       [2.78575485],\n",
       "       [2.58757859],\n",
       "       [4.99374375],\n",
       "       [4.83243533],\n",
       "       [5.10449202],\n",
       "       [5.42616112],\n",
       "       [4.89463835],\n",
       "       [3.89450236],\n",
       "       [4.83946196],\n",
       "       [2.87800028],\n",
       "       [4.42300967],\n",
       "       [2.95227868],\n",
       "       [5.32560994],\n",
       "       [4.07330274],\n",
       "       [3.75583883],\n",
       "       [3.31125492],\n",
       "       [4.82081603],\n",
       "       [3.87871887],\n",
       "       [4.21127974],\n",
       "       [2.58334738],\n",
       "       [4.35700455],\n",
       "       [4.34059689],\n",
       "       [4.35492685],\n",
       "       [5.32288261],\n",
       "       [4.54710667],\n",
       "       [3.59248397],\n",
       "       [3.82209419],\n",
       "       [4.59393528],\n",
       "       [2.70607128],\n",
       "       [4.50252107],\n",
       "       [4.51398662],\n",
       "       [3.15080554],\n",
       "       [2.90954892],\n",
       "       [3.46192945],\n",
       "       [3.604932  ],\n",
       "       [4.21650085],\n",
       "       [3.8267429 ],\n",
       "       [5.45505488],\n",
       "       [2.82993152],\n",
       "       [3.14634565],\n",
       "       [3.00546133],\n",
       "       [4.46206774],\n",
       "       [3.27789325],\n",
       "       [3.908812  ],\n",
       "       [3.25163396],\n",
       "       [2.99853093],\n",
       "       [2.85460423],\n",
       "       [4.47160846],\n",
       "       [2.93696522],\n",
       "       [3.1099322 ],\n",
       "       [3.61978362],\n",
       "       [4.95930812],\n",
       "       [2.81528979],\n",
       "       [5.00951549],\n",
       "       [2.8123195 ],\n",
       "       [5.41976697],\n",
       "       [3.91574387],\n",
       "       [5.42066032],\n",
       "       [4.31912328],\n",
       "       [4.71724179],\n",
       "       [2.64376202],\n",
       "       [3.36531164],\n",
       "       [2.88369325],\n",
       "       [3.40480193],\n",
       "       [2.87934284],\n",
       "       [3.46949633],\n",
       "       [3.75465724],\n",
       "       [2.7176875 ],\n",
       "       [4.57865516],\n",
       "       [4.20585227],\n",
       "       [3.31372469],\n",
       "       [4.07744845],\n",
       "       [2.80592825],\n",
       "       [4.23353035],\n",
       "       [5.28007912],\n",
       "       [3.47123127],\n",
       "       [4.50442747],\n",
       "       [2.9180539 ],\n",
       "       [4.64930899],\n",
       "       [3.3848569 ],\n",
       "       [3.07027083],\n",
       "       [4.26482596],\n",
       "       [2.58725027],\n",
       "       [4.9828449 ],\n",
       "       [2.54160291]])"
      ]
     },
     "execution_count": 24,
     "metadata": {},
     "output_type": "execute_result"
    }
   ],
   "source": [
    "predicted_value"
   ]
  },
  {
   "cell_type": "code",
   "execution_count": 25,
   "metadata": {},
   "outputs": [],
   "source": [
    "# model evaluation"
   ]
  },
  {
   "cell_type": "code",
   "execution_count": 26,
   "metadata": {},
   "outputs": [],
   "source": [
    "rmse = mean_squared_error(y,predicted_value)"
   ]
  },
  {
   "cell_type": "code",
   "execution_count": 27,
   "metadata": {},
   "outputs": [
    {
     "data": {
      "text/plain": [
       "0.09088995003317711"
      ]
     },
     "execution_count": 27,
     "metadata": {},
     "output_type": "execute_result"
    }
   ],
   "source": [
    "rmse"
   ]
  },
  {
   "cell_type": "code",
   "execution_count": 28,
   "metadata": {},
   "outputs": [],
   "source": [
    "#slope of line "
   ]
  },
  {
   "cell_type": "code",
   "execution_count": 29,
   "metadata": {},
   "outputs": [
    {
     "data": {
      "text/plain": [
       "array([[2.96179329]])"
      ]
     },
     "execution_count": 29,
     "metadata": {},
     "output_type": "execute_result"
    }
   ],
   "source": [
    "regression_model.coef_"
   ]
  },
  {
   "cell_type": "code",
   "execution_count": 30,
   "metadata": {},
   "outputs": [
    {
     "data": {
      "text/plain": [
       "array([2.52769588])"
      ]
     },
     "execution_count": 30,
     "metadata": {},
     "output_type": "execute_result"
    }
   ],
   "source": [
    "regression_model.intercept_"
   ]
  },
  {
   "cell_type": "code",
   "execution_count": 31,
   "metadata": {},
   "outputs": [],
   "source": [
    "r2 = r2_score(y,predicted_value)"
   ]
  },
  {
   "cell_type": "code",
   "execution_count": 32,
   "metadata": {},
   "outputs": [
    {
     "data": {
      "text/plain": [
       "0.8891609862876013"
      ]
     },
     "execution_count": 32,
     "metadata": {},
     "output_type": "execute_result"
    }
   ],
   "source": [
    "r2"
   ]
  },
  {
   "cell_type": "code",
   "execution_count": 33,
   "metadata": {},
   "outputs": [
    {
     "data": {
      "image/png": "[encoded data removed]",
      "text/plain": [
       "<Figure size 432x288 with 1 Axes>"
      ]
     },
     "metadata": {
      "needs_background": "light"
     },
     "output_type": "display_data"
    }
   ],
   "source": [
    "plt.scatter(x,y,s=20)\n",
    "plt.xlabel('x')\n",
    "plt.ylabel('y')\n",
    "#predicted values\n",
    "plt.plot(x,predicted_value,color='r')\n",
    "plt.show()"
   ]
  },
  {
   "cell_type": "code",
   "execution_count": null,
   "metadata": {},
   "outputs": [],
   "source": []
  }
 ],
 "metadata": {
  "kernelspec": {
   "display_name": "Python 3",
   "language": "python",
   "name": "python3"
  },
  "language_info": {
   "codemirror_mode": {
    "name": "ipython",
    "version": 3
   },
   "file_extension": ".py",
   "mimetype": "text/x-python",
   "name": "python",
   "nbconvert_exporter": "python",
   "pygments_lexer": "ipython3",
   "version": "3.7.7"
  }
 },
 "nbformat": 4,
 "nbformat_minor": 4
}
